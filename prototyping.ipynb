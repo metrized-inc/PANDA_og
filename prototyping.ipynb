{
 "cells": [
  {
   "cell_type": "code",
   "execution_count": 51,
   "metadata": {},
   "outputs": [],
   "source": [
    "import torch\n",
    "import torchvision\n",
    "import torchvision.transforms as transforms\n",
    "import numpy as np\n",
    "\n",
    "import matplotlib.pyplot as plt"
   ]
  },
  {
   "cell_type": "code",
   "execution_count": 43,
   "metadata": {},
   "outputs": [
    {
     "name": "stdout",
     "output_type": "stream",
     "text": [
      "Files already downloaded and verified\n",
      "Files already downloaded and verified\n"
     ]
    }
   ],
   "source": [
    "label_class = 0\n",
    "batch_size = 32\n",
    "\n",
    "transform_color = transforms.Compose([transforms.Resize(256),\n",
    "                                      transforms.CenterCrop(224),\n",
    "                                      transforms.ToTensor(),\n",
    "                                      transforms.Normalize(mean=[0.485, 0.456, 0.406], std=[0.229, 0.224, 0.225])])\n",
    "\n",
    "ds = torchvision.datasets.CIFAR10\n",
    "transform = transform_color\n",
    "coarse = {}\n",
    "trainset = ds(root='data', train=True, download=True, transform=transform, **coarse)\n",
    "testset = ds(root='data', train=False, download=True, transform=transform, **coarse)\n",
    "\n",
    "idx = np.array(trainset.targets) == label_class\n",
    "testset.targets = [int(t != label_class) for t in testset.targets]\n",
    "trainset.data = trainset.data[idx]\n",
    "trainset.targets = [trainset.targets[i] for i, flag in enumerate(idx, 0) if flag]\n",
    "train_loader = torch.utils.data.DataLoader(trainset, batch_size=batch_size, shuffle=True, num_workers=2, drop_last=False)\n",
    "# test_loader = torch.utils.data.DataLoader(testset, batch_size=batch_size, shuffle=False, num_workers=2, drop_last=False)"
   ]
  }
 ],
 "metadata": {
  "kernelspec": {
   "display_name": "Python 3.8.13 ('pytorch')",
   "language": "python",
   "name": "python3"
  },
  "language_info": {
   "codemirror_mode": {
    "name": "ipython",
    "version": 3
   },
   "file_extension": ".py",
   "mimetype": "text/x-python",
   "name": "python",
   "nbconvert_exporter": "python",
   "pygments_lexer": "ipython3",
   "version": "3.8.13"
  },
  "orig_nbformat": 4,
  "vscode": {
   "interpreter": {
    "hash": "739f515fbc693b0ef5b930780eef1a1b1825770e415178b662f8085df40d8af9"
   }
  }
 },
 "nbformat": 4,
 "nbformat_minor": 2
}
